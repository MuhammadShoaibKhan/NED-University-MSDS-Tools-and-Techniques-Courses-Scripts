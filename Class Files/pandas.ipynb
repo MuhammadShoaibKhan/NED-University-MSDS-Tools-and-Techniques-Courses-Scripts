{
 "cells": [
  {
   "cell_type": "code",
   "execution_count": null,
   "id": "23357e03",
   "metadata": {},
   "outputs": [],
   "source": [
    "import numpy as np\n",
    "import pandas as pd\n",
    "import matplotlib.pyplot as plt\n",
    "%matplotlib inline"
   ]
  },
  {
   "cell_type": "code",
   "execution_count": null,
   "id": "6debdb00",
   "metadata": {},
   "outputs": [],
   "source": [
    "data=pd.Series(np.random.randn(10), name='X1')\n",
    "data"
   ]
  },
  {
   "cell_type": "code",
   "execution_count": null,
   "id": "0bbbe129",
   "metadata": {},
   "outputs": [],
   "source": [
    "data.index"
   ]
  },
  {
   "cell_type": "code",
   "execution_count": null,
   "id": "ad5fb132",
   "metadata": {},
   "outputs": [],
   "source": [
    "data.values"
   ]
  },
  {
   "cell_type": "code",
   "execution_count": null,
   "id": "0437ab44",
   "metadata": {},
   "outputs": [],
   "source": [
    "dic={'Karachi':10, 'Islamabad':5,'Lahore':1, 'Sukkur':3}\n",
    "data2=pd.Series(dic, name='X')"
   ]
  },
  {
   "cell_type": "code",
   "execution_count": null,
   "id": "6d09ff59",
   "metadata": {},
   "outputs": [],
   "source": [
    "data2"
   ]
  },
  {
   "cell_type": "code",
   "execution_count": null,
   "id": "70cba6c1",
   "metadata": {},
   "outputs": [],
   "source": [
    "data2[1]"
   ]
  },
  {
   "cell_type": "code",
   "execution_count": null,
   "id": "74aac929",
   "metadata": {},
   "outputs": [],
   "source": [
    "data2[1:3]"
   ]
  },
  {
   "cell_type": "code",
   "execution_count": null,
   "id": "2a15b0e8",
   "metadata": {},
   "outputs": [],
   "source": [
    "data=pd.Series(['a','b','c'],index=[2,3,4])\n",
    "data[0:2] # slicing implicit, indexing explicit"
   ]
  },
  {
   "cell_type": "code",
   "execution_count": null,
   "id": "e75250b2",
   "metadata": {},
   "outputs": [],
   "source": [
    "#loc always follow explicit indexing style\n",
    "data.loc[0:2]"
   ]
  },
  {
   "cell_type": "code",
   "execution_count": null,
   "id": "36cc0b5b",
   "metadata": {},
   "outputs": [],
   "source": [
    "#iloc follow implicit style\n",
    "data.iloc[0:2]"
   ]
  },
  {
   "cell_type": "markdown",
   "id": "8d0f5dab",
   "metadata": {},
   "source": [
    "## Creating a Dataframe "
   ]
  },
  {
   "cell_type": "code",
   "execution_count": null,
   "id": "a8cbb099",
   "metadata": {},
   "outputs": [],
   "source": [
    "data=pd.DataFrame(np.random.randn(20,2), columns=['X1','X2'])\n",
    "data.head()"
   ]
  },
  {
   "cell_type": "code",
   "execution_count": null,
   "id": "c6cf7158",
   "metadata": {},
   "outputs": [],
   "source": [
    "data.describe()"
   ]
  },
  {
   "cell_type": "code",
   "execution_count": null,
   "id": "a8f03cad",
   "metadata": {},
   "outputs": [],
   "source": [
    "data.info()"
   ]
  },
  {
   "cell_type": "code",
   "execution_count": null,
   "id": "3644651c",
   "metadata": {},
   "outputs": [],
   "source": [
    "data['X3']=500*(data['X1']>0.5)+100*(data['X1']<=0.5)\n",
    "data.head()"
   ]
  },
  {
   "cell_type": "code",
   "execution_count": null,
   "id": "2c425142",
   "metadata": {},
   "outputs": [],
   "source": [
    "data['X4']=data['X1']-data['X2']\n",
    "data.head()"
   ]
  },
  {
   "cell_type": "code",
   "execution_count": null,
   "id": "77996ff9",
   "metadata": {},
   "outputs": [],
   "source": [
    "# create a new attribute or column\n",
    "data['Y']=np.random.randint(-1,2, (20,1))\n",
    "data.head()"
   ]
  },
  {
   "cell_type": "code",
   "execution_count": null,
   "id": "b818763c",
   "metadata": {},
   "outputs": [],
   "source": [
    "data[data.notnull()]"
   ]
  },
  {
   "cell_type": "markdown",
   "id": "4744813c",
   "metadata": {},
   "source": [
    "## check for null values"
   ]
  },
  {
   "cell_type": "code",
   "execution_count": null,
   "id": "3df35f71",
   "metadata": {},
   "outputs": [],
   "source": [
    "data.iloc[0,2]=np.nan\n",
    "np.sum(data.isnull())"
   ]
  },
  {
   "cell_type": "code",
   "execution_count": null,
   "id": "3fa31eb5",
   "metadata": {},
   "outputs": [],
   "source": [
    "data[data.duplicated()]"
   ]
  },
  {
   "cell_type": "code",
   "execution_count": null,
   "id": "18c9e93c",
   "metadata": {},
   "outputs": [],
   "source": [
    "df=pd.DataFrame([[1,2,np.nan,4],[3,6,7,np.nan],[5,4,3,2,1]])\n",
    "df.info()"
   ]
  },
  {
   "cell_type": "code",
   "execution_count": null,
   "id": "d968c104",
   "metadata": {},
   "outputs": [],
   "source": [
    "df.dropna(axis=1)"
   ]
  },
  {
   "cell_type": "code",
   "execution_count": null,
   "id": "e7141e2b",
   "metadata": {},
   "outputs": [],
   "source": [
    "df.dropna(axis=1,how='all')"
   ]
  },
  {
   "cell_type": "code",
   "execution_count": null,
   "id": "b201bcee",
   "metadata": {},
   "outputs": [],
   "source": [
    "df.dropna(axis=1,how='any')"
   ]
  },
  {
   "cell_type": "code",
   "execution_count": null,
   "id": "2421f2ae",
   "metadata": {},
   "outputs": [],
   "source": [
    "df.dropna(axis=0)"
   ]
  },
  {
   "cell_type": "code",
   "execution_count": null,
   "id": "85c2f21a",
   "metadata": {},
   "outputs": [],
   "source": [
    "df.fillna(0)"
   ]
  },
  {
   "cell_type": "code",
   "execution_count": null,
   "id": "2be613fc",
   "metadata": {},
   "outputs": [],
   "source": [
    "df.fillna(method='ffill')"
   ]
  },
  {
   "cell_type": "code",
   "execution_count": null,
   "id": "abe6daf9",
   "metadata": {},
   "outputs": [],
   "source": [
    "df.fillna(method='bfill')"
   ]
  },
  {
   "cell_type": "code",
   "execution_count": null,
   "id": "9ec0d62c",
   "metadata": {},
   "outputs": [],
   "source": [
    "from sklearn import datasets\n",
    "iris=datasets.load_iris()\n",
    "iris.data.shape"
   ]
  },
  {
   "cell_type": "code",
   "execution_count": null,
   "id": "17dea9f2",
   "metadata": {},
   "outputs": [],
   "source": [
    "iris.feature_names"
   ]
  },
  {
   "cell_type": "code",
   "execution_count": null,
   "id": "c6db2622",
   "metadata": {},
   "outputs": [],
   "source": [
    "iris.data"
   ]
  },
  {
   "cell_type": "code",
   "execution_count": null,
   "id": "e10e019b",
   "metadata": {},
   "outputs": [],
   "source": [
    "iris.target, iris.target_names"
   ]
  },
  {
   "cell_type": "code",
   "execution_count": null,
   "id": "ed22c78b",
   "metadata": {},
   "outputs": [],
   "source": [
    "df=pd.DataFrame(iris.data, columns=iris.feature_names)\n",
    "df.head()"
   ]
  },
  {
   "cell_type": "code",
   "execution_count": null,
   "id": "a67e18fe",
   "metadata": {},
   "outputs": [],
   "source": [
    "df['Target']=iris.target\n",
    "df.head()"
   ]
  },
  {
   "cell_type": "code",
   "execution_count": null,
   "id": "7e580c64",
   "metadata": {},
   "outputs": [],
   "source": [
    "df.describe()"
   ]
  },
  {
   "cell_type": "code",
   "execution_count": null,
   "id": "ba2ab225",
   "metadata": {},
   "outputs": [],
   "source": [
    "df.info()"
   ]
  },
  {
   "cell_type": "code",
   "execution_count": null,
   "id": "03b1a30d",
   "metadata": {},
   "outputs": [],
   "source": [
    "df['Target'].value_counts()"
   ]
  },
  {
   "cell_type": "code",
   "execution_count": null,
   "id": "aca2719f",
   "metadata": {},
   "outputs": [],
   "source": [
    "df.columns"
   ]
  },
  {
   "cell_type": "code",
   "execution_count": null,
   "id": "58c638b0",
   "metadata": {},
   "outputs": [],
   "source": [
    "plt.figure()\n",
    "plt.scatter(df['sepal length (cm)'],df['sepal width (cm)'], c=df.Target)\n",
    "plt.xlabel('sepal length (cm)')\n",
    "plt.ylabel('sepal width (cm)')\n",
    "plt.title('Color represents the true label/target')\n",
    "plt.colorbar()\n",
    "plt.figure()\n",
    "plt.scatter(df['petal length (cm)'],df['petal width (cm)'], c=df.Target)\n",
    "plt.xlabel('petal length (cm)')\n",
    "plt.ylabel('petal width (cm)')\n",
    "plt.title('Color represents the true label/target')\n",
    "plt.colorbar()"
   ]
  },
  {
   "cell_type": "code",
   "execution_count": null,
   "id": "52327a3c",
   "metadata": {},
   "outputs": [],
   "source": [
    "import seaborn as sns\n",
    "sns.heatmap(df.corr(),annot=True)"
   ]
  },
  {
   "cell_type": "code",
   "execution_count": null,
   "id": "c9d02cea",
   "metadata": {},
   "outputs": [],
   "source": [
    "sns.jointplot(x='sepal width (cm)', y='sepal length (cm)', hue='Target', data=df)"
   ]
  },
  {
   "cell_type": "markdown",
   "id": "5b126abc",
   "metadata": {},
   "source": [
    "## Data normalization\n",
    "Normalize the input attributes (x) such that the new values (x') are scaled and fall in the range [0,1]\n",
    "$$x'=\\frac{x-x_{min}}{x_{max}-x_{min}}$$"
   ]
  },
  {
   "cell_type": "code",
   "execution_count": null,
   "id": "54f487ba",
   "metadata": {},
   "outputs": [],
   "source": [
    "data_n=df.drop('Target',axis=1).copy()\n",
    "data_n=(data_n-data_n.min())/(data_n.max()-data_n.min())\n",
    "data_n.head()"
   ]
  },
  {
   "cell_type": "code",
   "execution_count": null,
   "id": "c6d852e0",
   "metadata": {},
   "outputs": [],
   "source": [
    "data_n.describe()"
   ]
  },
  {
   "cell_type": "markdown",
   "id": "86109221",
   "metadata": {},
   "source": [
    "## Standardization\n",
    "Standardize the input attributes (x) such that the new values (x') have zero mean and unity standard deviation.\n",
    "$$x'=\\frac{x-\\mu}{\\sigma}$$"
   ]
  },
  {
   "cell_type": "code",
   "execution_count": null,
   "id": "b9a32da2",
   "metadata": {},
   "outputs": [],
   "source": [
    "data_s=df.drop('Target',axis=1).copy()\n",
    "data_s=(data_s-data_s.mean())/(data_s.std())\n",
    "data_s.head()"
   ]
  },
  {
   "cell_type": "code",
   "execution_count": null,
   "id": "33fa7281",
   "metadata": {},
   "outputs": [],
   "source": [
    "data_s.describe()"
   ]
  },
  {
   "cell_type": "code",
   "execution_count": null,
   "id": "63713e14",
   "metadata": {},
   "outputs": [],
   "source": [
    "col='petal length (cm)'\n",
    "plt.figure()\n",
    "plt.hist(df[col], edgecolor='red',label='original')\n",
    "plt.hist(data_s[col], edgecolor='red', label='standardized')\n",
    "plt.legend(loc=0)\n",
    "\n",
    "plt.figure()\n",
    "plt.hist(df[col], edgecolor='red',label='original')\n",
    "plt.hist(data_n[col], edgecolor='red', label='normalized')\n",
    "plt.legend(loc=0)\n"
   ]
  },
  {
   "cell_type": "code",
   "execution_count": null,
   "id": "81cc2c91",
   "metadata": {},
   "outputs": [],
   "source": [
    "\n",
    "\n"
   ]
  }
 ],
 "metadata": {
  "kernelspec": {
   "display_name": "Python 3",
   "language": "python",
   "name": "python3"
  },
  "language_info": {
   "codemirror_mode": {
    "name": "ipython",
    "version": 3
   },
   "file_extension": ".py",
   "mimetype": "text/x-python",
   "name": "python",
   "nbconvert_exporter": "python",
   "pygments_lexer": "ipython3",
   "version": "3.8.8"
  }
 },
 "nbformat": 4,
 "nbformat_minor": 5
}
