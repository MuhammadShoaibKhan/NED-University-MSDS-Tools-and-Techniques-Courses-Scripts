{
 "cells": [
  {
   "cell_type": "markdown",
   "metadata": {},
   "source": [
    "## This is the first class on numpy!"
   ]
  },
  {
   "cell_type": "code",
   "execution_count": 54,
   "metadata": {},
   "outputs": [],
   "source": [
    "import numpy as np\n",
    "import matplotlib.pyplot as plt\n",
    "%matplotlib inline"
   ]
  },
  {
   "cell_type": "markdown",
   "metadata": {},
   "source": [
    "$$ y = \\frac{1}{2}x^2$$\n",
    "\n"
   ]
  },
  {
   "cell_type": "code",
   "execution_count": 2,
   "metadata": {},
   "outputs": [],
   "source": [
    "# Lattice Format"
   ]
  },
  {
   "cell_type": "markdown",
   "metadata": {},
   "source": [
    " $$ ax^2 + bx+c =0 $$"
   ]
  },
  {
   "cell_type": "code",
   "execution_count": 5,
   "metadata": {},
   "outputs": [
    {
     "name": "stdout",
     "output_type": "stream",
     "text": [
      "2\n"
     ]
    }
   ],
   "source": [
    "x = 2\n",
    "print(x)"
   ]
  },
  {
   "cell_type": "code",
   "execution_count": 7,
   "metadata": {},
   "outputs": [
    {
     "name": "stdout",
     "output_type": "stream",
     "text": [
      "[1 2 3 4 5]\n"
     ]
    }
   ],
   "source": [
    "B = np.array([1,2,3,4,5])\n",
    "print(B)"
   ]
  },
  {
   "cell_type": "code",
   "execution_count": 8,
   "metadata": {},
   "outputs": [
    {
     "data": {
      "text/plain": [
       "dtype('int32')"
      ]
     },
     "execution_count": 8,
     "metadata": {},
     "output_type": "execute_result"
    }
   ],
   "source": [
    "B.dtype"
   ]
  },
  {
   "cell_type": "code",
   "execution_count": 9,
   "metadata": {},
   "outputs": [
    {
     "ename": "TypeError",
     "evalue": "array() missing required argument 'object' (pos 1)",
     "output_type": "error",
     "traceback": [
      "\u001b[1;31m---------------------------------------------------------------------------\u001b[0m",
      "\u001b[1;31mTypeError\u001b[0m                                 Traceback (most recent call last)",
      "\u001b[1;32m<ipython-input-9-33d545cda75f>\u001b[0m in \u001b[0;36m<module>\u001b[1;34m\u001b[0m\n\u001b[1;32m----> 1\u001b[1;33m \u001b[0mA\u001b[0m \u001b[1;33m=\u001b[0m \u001b[0mnp\u001b[0m\u001b[1;33m.\u001b[0m\u001b[0marray\u001b[0m\u001b[1;33m(\u001b[0m\u001b[1;33m)\u001b[0m\u001b[1;33m\u001b[0m\u001b[1;33m\u001b[0m\u001b[0m\n\u001b[0m",
      "\u001b[1;31mTypeError\u001b[0m: array() missing required argument 'object' (pos 1)"
     ]
    }
   ],
   "source": [
    "B = np.array()"
   ]
  },
  {
   "cell_type": "code",
   "execution_count": 10,
   "metadata": {},
   "outputs": [
    {
     "name": "stdout",
     "output_type": "stream",
     "text": [
      "[1. 2. 3. 4. 5.]\n"
     ]
    }
   ],
   "source": [
    "A = np.array([1,2,3,4,5],dtype = 'float')\n",
    "print(A)"
   ]
  },
  {
   "cell_type": "code",
   "execution_count": 11,
   "metadata": {},
   "outputs": [
    {
     "data": {
      "text/plain": [
       "dtype('float64')"
      ]
     },
     "execution_count": 11,
     "metadata": {},
     "output_type": "execute_result"
    }
   ],
   "source": [
    "A.dtype"
   ]
  },
  {
   "cell_type": "code",
   "execution_count": 12,
   "metadata": {},
   "outputs": [
    {
     "data": {
      "text/plain": [
       "1"
      ]
     },
     "execution_count": 12,
     "metadata": {},
     "output_type": "execute_result"
    }
   ],
   "source": [
    "A.ndim"
   ]
  },
  {
   "cell_type": "code",
   "execution_count": 13,
   "metadata": {},
   "outputs": [
    {
     "data": {
      "text/plain": [
       "8"
      ]
     },
     "execution_count": 13,
     "metadata": {},
     "output_type": "execute_result"
    }
   ],
   "source": [
    "A.itemsize"
   ]
  },
  {
   "cell_type": "code",
   "execution_count": 14,
   "metadata": {},
   "outputs": [
    {
     "data": {
      "text/plain": [
       "40"
      ]
     },
     "execution_count": 14,
     "metadata": {},
     "output_type": "execute_result"
    }
   ],
   "source": [
    "A.nbytes"
   ]
  },
  {
   "cell_type": "code",
   "execution_count": 15,
   "metadata": {},
   "outputs": [
    {
     "data": {
      "text/plain": [
       "3.0"
      ]
     },
     "execution_count": 15,
     "metadata": {},
     "output_type": "execute_result"
    }
   ],
   "source": [
    "np.mean(A)"
   ]
  },
  {
   "cell_type": "code",
   "execution_count": 17,
   "metadata": {},
   "outputs": [
    {
     "data": {
      "text/plain": [
       "2.0"
      ]
     },
     "execution_count": 17,
     "metadata": {},
     "output_type": "execute_result"
    }
   ],
   "source": [
    "np.var(A)"
   ]
  },
  {
   "cell_type": "code",
   "execution_count": 18,
   "metadata": {},
   "outputs": [
    {
     "data": {
      "text/plain": [
       "1.4142135623730951"
      ]
     },
     "execution_count": 18,
     "metadata": {},
     "output_type": "execute_result"
    }
   ],
   "source": [
    "np.std(A)"
   ]
  },
  {
   "cell_type": "code",
   "execution_count": 19,
   "metadata": {},
   "outputs": [
    {
     "data": {
      "text/plain": [
       "1.4142135623730951"
      ]
     },
     "execution_count": 19,
     "metadata": {},
     "output_type": "execute_result"
    }
   ],
   "source": [
    "np.sqrt(np.var(A))"
   ]
  },
  {
   "cell_type": "code",
   "execution_count": 22,
   "metadata": {},
   "outputs": [],
   "source": [
    "B = np.zeros(10)"
   ]
  },
  {
   "cell_type": "code",
   "execution_count": 23,
   "metadata": {},
   "outputs": [
    {
     "data": {
      "text/plain": [
       "(10,)"
      ]
     },
     "execution_count": 23,
     "metadata": {},
     "output_type": "execute_result"
    }
   ],
   "source": [
    "B.shape"
   ]
  },
  {
   "cell_type": "code",
   "execution_count": 29,
   "metadata": {},
   "outputs": [
    {
     "data": {
      "text/plain": [
       "(10,)"
      ]
     },
     "execution_count": 29,
     "metadata": {},
     "output_type": "execute_result"
    }
   ],
   "source": [
    "B = np.ones(10)\n",
    "B.shape\n"
   ]
  },
  {
   "cell_type": "code",
   "execution_count": 30,
   "metadata": {},
   "outputs": [
    {
     "data": {
      "text/plain": [
       "array([1., 1., 1., 1., 1., 1., 1., 1., 1., 1.])"
      ]
     },
     "execution_count": 30,
     "metadata": {},
     "output_type": "execute_result"
    }
   ],
   "source": [
    "B"
   ]
  },
  {
   "cell_type": "code",
   "execution_count": 31,
   "metadata": {},
   "outputs": [
    {
     "data": {
      "text/plain": [
       "array([ 1,  3,  5,  7,  9, 11, 13, 15, 17, 19])"
      ]
     },
     "execution_count": 31,
     "metadata": {},
     "output_type": "execute_result"
    }
   ],
   "source": [
    "np.arange(1,20,2)"
   ]
  },
  {
   "cell_type": "code",
   "execution_count": 33,
   "metadata": {},
   "outputs": [
    {
     "data": {
      "text/plain": [
       "array([ 2,  4,  6,  8, 10, 12, 14, 16, 18])"
      ]
     },
     "execution_count": 33,
     "metadata": {},
     "output_type": "execute_result"
    }
   ],
   "source": [
    "np.arange(2,20,2)"
   ]
  },
  {
   "cell_type": "code",
   "execution_count": 35,
   "metadata": {},
   "outputs": [
    {
     "data": {
      "text/plain": [
       "array([[ 1,  3,  5],\n",
       "       [ 7,  9, 11],\n",
       "       [13, 15, 17]])"
      ]
     },
     "execution_count": 35,
     "metadata": {},
     "output_type": "execute_result"
    }
   ],
   "source": [
    "np.arange(1,19,2).reshape(3,3)"
   ]
  },
  {
   "cell_type": "code",
   "execution_count": 36,
   "metadata": {},
   "outputs": [
    {
     "data": {
      "text/plain": [
       "array([0, 1, 2, 3, 4, 5, 6, 7, 8, 9])"
      ]
     },
     "execution_count": 36,
     "metadata": {},
     "output_type": "execute_result"
    }
   ],
   "source": [
    "np.arange(10)"
   ]
  },
  {
   "cell_type": "code",
   "execution_count": 38,
   "metadata": {},
   "outputs": [
    {
     "data": {
      "text/plain": [
       "array([0.        , 0.11111111, 0.22222222, 0.33333333, 0.44444444,\n",
       "       0.55555556, 0.66666667, 0.77777778, 0.88888889, 1.        ])"
      ]
     },
     "execution_count": 38,
     "metadata": {},
     "output_type": "execute_result"
    }
   ],
   "source": [
    "np.linspace(0,1,10)"
   ]
  },
  {
   "cell_type": "code",
   "execution_count": 39,
   "metadata": {},
   "outputs": [
    {
     "data": {
      "text/plain": [
       "3.0"
      ]
     },
     "execution_count": 39,
     "metadata": {},
     "output_type": "execute_result"
    }
   ],
   "source": [
    "np.median(A)"
   ]
  },
  {
   "cell_type": "code",
   "execution_count": 43,
   "metadata": {},
   "outputs": [],
   "source": [
    "x= np.arange(1,7,1)"
   ]
  },
  {
   "cell_type": "code",
   "execution_count": 44,
   "metadata": {},
   "outputs": [
    {
     "data": {
      "text/plain": [
       "3.5"
      ]
     },
     "execution_count": 44,
     "metadata": {},
     "output_type": "execute_result"
    }
   ],
   "source": [
    "np.median(x)"
   ]
  },
  {
   "cell_type": "code",
   "execution_count": 59,
   "metadata": {},
   "outputs": [
    {
     "data": {
      "text/plain": [
       "Text(0.5, 1.0, 'Line Plot')"
      ]
     },
     "execution_count": 59,
     "metadata": {},
     "output_type": "execute_result"
    },
    {
     "data": {
      "image/png": "[encoded data removed]",
      "text/plain": [
       "<Figure size 432x288 with 1 Axes>"
      ]
     },
     "metadata": {
      "needs_background": "light"
     },
     "output_type": "display_data"
    }
   ],
   "source": [
    "X = np.arange(1,6)\n",
    "Y = np.array([10, 11, 15, 17, 20])\n",
    "plt.plot(X,Y,':gs')\n",
    "plt.xlabel('X')\n",
    "plt.ylabel('Y')\n",
    "plt.title('Line Plot')"
   ]
  },
  {
   "cell_type": "code",
   "execution_count": 63,
   "metadata": {},
   "outputs": [],
   "source": [
    "r = np.array([[1,2],[6,7],[8,9]])"
   ]
  },
  {
   "cell_type": "code",
   "execution_count": 65,
   "metadata": {},
   "outputs": [
    {
     "data": {
      "text/plain": [
       "(3, 2)"
      ]
     },
     "execution_count": 65,
     "metadata": {},
     "output_type": "execute_result"
    }
   ],
   "source": [
    "r.shape"
   ]
  },
  {
   "cell_type": "code",
   "execution_count": 66,
   "metadata": {},
   "outputs": [
    {
     "data": {
      "text/plain": [
       "2"
      ]
     },
     "execution_count": 66,
     "metadata": {},
     "output_type": "execute_result"
    }
   ],
   "source": [
    "r.ndim"
   ]
  },
  {
   "cell_type": "code",
   "execution_count": 67,
   "metadata": {},
   "outputs": [
    {
     "data": {
      "text/plain": [
       "4"
      ]
     },
     "execution_count": 67,
     "metadata": {},
     "output_type": "execute_result"
    }
   ],
   "source": [
    "r.itemsize"
   ]
  },
  {
   "cell_type": "code",
   "execution_count": 68,
   "metadata": {},
   "outputs": [
    {
     "data": {
      "text/plain": [
       "6"
      ]
     },
     "execution_count": 68,
     "metadata": {},
     "output_type": "execute_result"
    }
   ],
   "source": [
    "r.size"
   ]
  },
  {
   "cell_type": "code",
   "execution_count": 69,
   "metadata": {},
   "outputs": [
    {
     "data": {
      "text/plain": [
       "dtype('int32')"
      ]
     },
     "execution_count": 69,
     "metadata": {},
     "output_type": "execute_result"
    }
   ],
   "source": [
    "r.dtype"
   ]
  },
  {
   "cell_type": "code",
   "execution_count": 70,
   "metadata": {},
   "outputs": [
    {
     "data": {
      "text/plain": [
       "24"
      ]
     },
     "execution_count": 70,
     "metadata": {},
     "output_type": "execute_result"
    }
   ],
   "source": [
    "r.nbytes"
   ]
  },
  {
   "cell_type": "code",
   "execution_count": 71,
   "metadata": {},
   "outputs": [
    {
     "data": {
      "text/plain": [
       "[<matplotlib.lines.Line2D at 0x2da032d4488>,\n",
       " <matplotlib.lines.Line2D at 0x2da032dbe88>]"
      ]
     },
     "execution_count": 71,
     "metadata": {},
     "output_type": "execute_result"
    },
    {
     "data": {
      "image/png": "[encoded data removed]",
      "text/plain": [
       "<Figure size 432x288 with 1 Axes>"
      ]
     },
     "metadata": {
      "needs_background": "light"
     },
     "output_type": "display_data"
    }
   ],
   "source": [
    "plt.plot(r)"
   ]
  },
  {
   "cell_type": "code",
   "execution_count": 72,
   "metadata": {},
   "outputs": [
    {
     "data": {
      "text/plain": [
       "([array([1., 0., 0., 0., 0., 0., 1., 0., 1., 0.]),\n",
       "  array([0., 1., 0., 0., 0., 0., 0., 1., 0., 1.])],\n",
       " array([1. , 1.8, 2.6, 3.4, 4.2, 5. , 5.8, 6.6, 7.4, 8.2, 9. ]),\n",
       " <a list of 2 Lists of Patches objects>)"
      ]
     },
     "execution_count": 72,
     "metadata": {},
     "output_type": "execute_result"
    },
    {
     "data": {
      "image/png": "[encoded data removed]",
      "text/plain": [
       "<Figure size 432x288 with 1 Axes>"
      ]
     },
     "metadata": {
      "needs_background": "light"
     },
     "output_type": "display_data"
    }
   ],
   "source": [
    "plt.hist(r)"
   ]
  },
  {
   "cell_type": "code",
   "execution_count": 73,
   "metadata": {},
   "outputs": [
    {
     "data": {
      "text/plain": [
       "array([[0., 0.],\n",
       "       [0., 0.],\n",
       "       [0., 0.]])"
      ]
     },
     "execution_count": 73,
     "metadata": {},
     "output_type": "execute_result"
    }
   ],
   "source": [
    "np.zeros((3,2))"
   ]
  },
  {
   "cell_type": "code",
   "execution_count": 74,
   "metadata": {},
   "outputs": [
    {
     "data": {
      "text/plain": [
       "array([[1., 1., 1., 1., 1.],\n",
       "       [1., 1., 1., 1., 1.],\n",
       "       [1., 1., 1., 1., 1.]])"
      ]
     },
     "execution_count": 74,
     "metadata": {},
     "output_type": "execute_result"
    }
   ],
   "source": [
    "np.ones((3,5))"
   ]
  },
  {
   "cell_type": "code",
   "execution_count": 80,
   "metadata": {},
   "outputs": [
    {
     "data": {
      "text/plain": [
       "array([-5.92226098e-01, -1.81741335e+00,  1.00977099e+00,  3.62587109e-01,\n",
       "        3.01312745e-01, -1.91392543e+00,  3.55830512e-01, -3.66537756e-01,\n",
       "        1.90309194e+00, -1.05317688e-02, -1.33744535e+00,  4.12088134e-01,\n",
       "        1.25165987e+00,  8.00311335e-01, -2.81392278e-01,  1.89251659e+00,\n",
       "        7.80721817e-02,  8.65202181e-01, -1.17469563e+00,  1.03517662e+00,\n",
       "       -2.21894974e+00, -1.37612383e+00, -7.45308880e-01, -7.32479786e-01,\n",
       "       -1.42508411e-01, -5.93523822e-01,  6.48103092e-01,  2.03231557e+00,\n",
       "       -3.24971796e-01, -1.76871776e-01,  9.09460408e-01, -1.71349269e+00,\n",
       "       -8.38264670e-01, -4.28784782e-01, -2.32198771e-01,  4.66941850e-02,\n",
       "        1.21265506e-02, -1.00851098e+00, -3.51374024e-01, -1.41312749e+00,\n",
       "       -2.69860758e-01, -1.03023813e+00,  2.15564924e+00, -3.46298541e-01,\n",
       "       -1.49482008e-01, -1.70816873e-01, -1.16022682e+00,  2.01612309e+00,\n",
       "       -4.30478122e-02, -3.19546385e-01, -1.07761209e+00, -1.45496846e+00,\n",
       "        1.33531757e+00, -8.62993621e-01,  1.12309853e+00,  6.82046422e-02,\n",
       "       -9.26935971e-01,  1.14641688e+00,  1.01291921e+00, -4.64906171e-01,\n",
       "        5.21716619e-01,  5.16603417e-01, -3.24203968e-01, -1.51294175e+00,\n",
       "       -1.50797555e+00,  1.30294090e+00, -1.33677197e+00,  2.19314584e-01,\n",
       "        7.78646924e-01,  1.69679176e-01, -3.36479715e-01, -1.44936206e+00,\n",
       "       -1.03865867e+00,  5.94989855e-01,  1.01934469e+00,  1.21997371e+00,\n",
       "        6.52158369e-01, -1.57947987e+00,  1.71858160e+00, -1.51968140e+00,\n",
       "       -9.96501898e-01,  1.03800648e+00, -7.31834795e-01, -4.67185536e-01,\n",
       "       -3.49929229e-01,  9.92404748e-01, -1.07947741e+00, -9.70873712e-01,\n",
       "       -3.29923757e-01,  7.33660692e-01, -9.13083474e-01,  9.63526526e-01,\n",
       "        9.79872276e-01,  6.89102793e-02, -2.01215261e+00, -8.44309772e-01,\n",
       "       -1.44594649e+00,  7.84144421e-01, -5.63910093e-01, -2.48850135e-01,\n",
       "        1.04770785e+00, -1.95173306e-01, -1.55362321e+00, -1.13903932e+00,\n",
       "        5.11085241e-01, -3.68838598e-01,  9.51929394e-01,  1.71319559e-01,\n",
       "        5.11479915e-02,  1.57138946e+00, -5.57972580e-01, -1.12635146e-02,\n",
       "        1.17414424e+00,  5.93455815e-01, -2.19496135e-01, -1.69038934e+00,\n",
       "       -1.38329223e+00, -1.06485938e+00, -1.00465449e+00, -3.15169825e-02,\n",
       "        8.53181145e-02,  5.65386387e-01, -5.52200458e-01,  8.68392365e-01,\n",
       "        3.47186482e-01, -4.10855809e-02,  7.60449746e-03,  1.14506989e+00,\n",
       "        1.14386099e+00,  4.09592248e-01,  2.75774483e-01,  2.36823514e-01,\n",
       "        1.93517683e-01,  4.58365183e-01, -3.47572669e-01,  3.56281277e-01,\n",
       "        1.81112319e-01,  3.80616647e-01,  1.83003810e+00,  1.89890993e-01,\n",
       "       -1.58222255e-01,  3.17784358e-01,  2.79034606e-01,  2.78961146e-01,\n",
       "       -1.89064660e+00,  2.61498282e-01, -2.77724138e+00,  2.17601718e+00,\n",
       "        1.31954513e+00,  1.31617629e+00, -3.01349802e-01, -2.80352395e+00,\n",
       "        5.63589565e-01,  8.38628534e-01,  1.09278340e+00,  3.13439126e-01,\n",
       "       -5.54453404e-01, -8.99454148e-01,  5.15705200e-01, -1.42249188e+00,\n",
       "        2.20109467e+00, -1.22063679e+00, -8.78349463e-01, -1.19948510e+00,\n",
       "       -2.21420229e+00, -2.44859561e+00, -1.21985759e+00,  3.72459936e-01,\n",
       "       -3.47839985e-01,  1.81386954e-01,  4.82927406e-01, -9.13272688e-01,\n",
       "       -1.16135691e+00, -2.38752015e-01, -3.49068504e-01, -1.01317258e+00,\n",
       "       -6.39296256e-01,  1.75653035e-01,  9.23329004e-01,  8.87274426e-02,\n",
       "       -1.75935565e+00, -5.07963716e-01, -3.71833173e-01, -6.92179628e-01,\n",
       "       -7.89167231e-01, -2.40166944e-01,  1.91451981e+00, -9.32619989e-01,\n",
       "        3.67534712e-01, -7.50481607e-01,  6.26764523e-01,  1.75816237e+00,\n",
       "       -1.06071101e+00, -6.41417144e-01,  7.41841086e-01,  3.64453762e-02,\n",
       "       -2.04680603e-01, -5.22792981e-01, -5.33094916e-01, -1.34103074e+00,\n",
       "       -1.45361954e+00,  3.37227231e-03, -1.78243972e+00,  1.23669722e+00,\n",
       "        2.80157621e-01,  3.76226446e-01, -1.59614245e+00, -6.51913119e-01,\n",
       "       -1.67911125e-01,  1.11539893e+00, -4.39225463e-01, -4.48218964e-01,\n",
       "        5.19494187e-01, -1.47233858e+00,  2.02656159e-01, -3.23450119e-02,\n",
       "       -4.65502979e-01, -6.04996216e-01,  1.20427643e+00,  1.17105935e-01,\n",
       "        1.82196518e-01, -8.31062388e-01,  2.79282010e-01,  3.26670469e-01,\n",
       "        1.07797386e+00, -4.86976126e-01,  8.70189371e-01, -2.05416316e+00,\n",
       "       -3.28458621e-01, -1.56537990e+00,  3.80960111e-01, -1.59251718e+00,\n",
       "       -1.05584777e+00, -1.19772753e-01, -1.13921197e+00,  9.37767146e-01,\n",
       "       -9.12088648e-01, -2.93994444e-02, -3.34798073e-01, -1.78527460e-01,\n",
       "        1.98499507e+00,  7.36537259e-01,  1.26497022e+00, -4.40022785e-01,\n",
       "        6.19292605e-01,  1.84189824e-01, -4.57157978e-01, -5.48529379e-01,\n",
       "        9.79816550e-01, -1.25944956e+00, -1.18546461e+00, -2.36757504e+00,\n",
       "        1.37346296e+00, -6.29687523e-01,  9.79074697e-02,  3.50372837e-01,\n",
       "       -7.58397701e-01, -8.10010411e-02, -1.39445319e+00,  1.27159166e+00,\n",
       "       -7.51698989e-01,  9.56199154e-01,  2.33198196e-02, -1.18184095e+00,\n",
       "        1.88384333e+00,  8.33379606e-01, -8.31063857e-01, -1.24696732e+00,\n",
       "       -2.50726651e-01,  1.27180763e-01,  8.87550989e-01,  2.57412369e-01,\n",
       "       -1.76875064e-02, -1.95521075e+00,  9.38645764e-01,  2.76941517e-01,\n",
       "       -5.13032192e-01, -1.02362242e+00, -7.74034084e-02,  3.14293867e-01,\n",
       "        2.46288580e-01, -2.05772191e+00, -4.55278563e-02,  5.30227243e-04,\n",
       "       -6.31159877e-01,  3.44854274e-01,  2.00747773e+00, -7.51639571e-01,\n",
       "       -1.27172429e+00, -7.47185503e-01,  8.73487780e-01, -2.45987647e-01,\n",
       "        2.94170045e-01,  2.41136047e-01,  1.63988747e+00,  6.41744910e-01,\n",
       "       -1.24487883e+00,  1.03500779e+00,  1.29658566e+00,  1.40298684e+00,\n",
       "        1.73410501e+00,  4.53289181e-01,  1.02548677e+00, -2.09728202e+00,\n",
       "       -1.28529490e+00, -5.27652728e-01,  3.60137250e-01,  8.94084624e-01,\n",
       "       -4.76492224e-01,  8.26027309e-01,  1.03651657e+00,  1.14587245e-01,\n",
       "        2.33957123e-01, -6.74401442e-01, -5.33025885e-01, -5.51748498e-01,\n",
       "       -7.01060823e-03, -1.02485159e+00,  1.42899926e-01, -2.40270200e-01,\n",
       "       -8.62184996e-01,  2.87424484e-01,  2.61199050e-02,  5.64666479e-01,\n",
       "       -7.40009214e-01, -4.71095498e-01,  9.65327907e-01,  1.22711009e+00,\n",
       "        5.08861324e-01, -8.71160350e-01,  1.95067455e-01, -1.77606250e+00,\n",
       "       -2.10457517e-01,  1.33191221e+00, -5.64993362e-01,  1.68953649e-01,\n",
       "       -1.09555589e+00,  1.27460705e-01,  3.90245722e-01,  7.19530045e-01,\n",
       "        1.23325597e+00, -1.37396658e+00, -6.93241276e-01, -1.40179913e-01,\n",
       "       -6.81273318e-01, -3.61611606e-02, -2.47710794e-01,  7.02730075e-01,\n",
       "       -6.08683408e-01,  4.26396469e-01, -2.43040415e-01,  1.20227199e+00,\n",
       "       -3.42121464e-01,  1.84818541e-02, -1.81801110e+00, -1.40463887e+00,\n",
       "        3.89639558e-02, -6.70983956e-01, -1.41002852e+00,  6.28399399e-01,\n",
       "        7.35020343e-01,  1.09436191e+00,  5.35812528e-01,  3.01091687e+00,\n",
       "       -1.16539331e+00, -4.90291094e-01,  8.00603997e-01, -1.20010690e+00,\n",
       "        1.79616463e+00, -1.92043584e-01,  1.32715787e-01,  3.50432452e-01,\n",
       "        1.84132466e+00,  8.41710953e-01,  1.33197426e+00, -5.37302439e-01,\n",
       "       -1.36691745e+00, -1.06329232e+00,  3.10591048e-01, -3.00395894e-01,\n",
       "       -2.02071040e+00, -7.49582735e-02, -1.25642884e-01, -6.34944055e-01,\n",
       "        4.85312271e-01,  1.00281524e+00,  1.11648120e+00, -1.06733804e-01,\n",
       "        2.15853453e-01, -1.16813726e+00, -1.24839859e-01, -8.63583990e-01,\n",
       "        1.32171251e+00, -1.99713934e+00,  6.81716919e-01,  1.35289129e+00,\n",
       "       -5.14987291e-01, -3.10927405e-01, -2.62203837e-01,  6.26343915e-01,\n",
       "       -1.10793665e+00, -7.31644617e-01,  4.31431234e-01,  6.75983437e-03,\n",
       "       -8.42951674e-01,  4.40231127e-01, -5.39911480e-01, -7.57178184e-01,\n",
       "        5.79606005e-01, -1.22279669e+00, -1.32174098e+00,  1.55097039e+00,\n",
       "        1.34740683e+00, -1.82598015e-02, -7.09033342e-02, -2.19656440e-01,\n",
       "       -7.69315249e-01,  1.75370535e-01,  4.83301803e-01,  1.79196850e-01,\n",
       "       -7.49775163e-01,  6.52326234e-01,  8.41172324e-01,  1.57370083e-01,\n",
       "        1.58047426e-01,  2.95462864e-01,  6.21809362e-01,  3.71120742e-02,\n",
       "        2.72440496e-01, -1.15909819e+00,  1.13804410e+00,  5.29669720e-01,\n",
       "       -6.96509126e-01, -1.41942140e+00, -7.99802223e-01, -1.78627642e+00,\n",
       "        2.85459198e-01,  7.92413349e-01,  1.25955391e+00, -2.15100842e-02,\n",
       "       -5.62812950e-01, -1.45678551e+00,  6.43315514e-01, -1.29294065e+00,\n",
       "       -4.02439907e-01,  3.83280241e-01, -1.19130799e+00,  4.02138642e-01,\n",
       "       -1.86892678e-01, -1.59449559e-02,  6.87709418e-01,  1.05611653e+00,\n",
       "       -1.36888204e-01,  4.44852399e-02,  2.60763755e+00,  7.47359509e-01,\n",
       "        8.34730943e-01, -1.49904457e-01, -6.50520616e-01, -7.04843071e-01,\n",
       "        4.25903697e-01,  1.58813648e+00,  4.72950740e-01, -7.52443486e-01,\n",
       "        4.94805623e-01, -1.16049001e+00,  5.44194768e-01, -1.26874490e+00,\n",
       "       -6.00509241e-01,  1.05019867e+00, -4.76233178e-01, -3.09011389e-01,\n",
       "        1.37347548e+00,  6.05747761e-01, -1.37244388e-01, -9.31122134e-01,\n",
       "       -2.28202984e-01, -2.34691846e-01,  6.53339137e-02, -1.23329205e+00,\n",
       "        5.86525544e-02, -3.96476241e-01,  1.39533377e-01,  1.13943250e+00,\n",
       "       -4.98054004e-01, -3.25142645e-01,  2.06577020e-01,  2.14787529e-01,\n",
       "       -3.60454596e-01, -4.06999452e-01,  7.37179154e-01, -2.32255355e+00,\n",
       "       -1.56512243e+00, -3.69712043e-01,  2.45944123e-02, -2.93814936e-01,\n",
       "        4.42926984e-01, -2.26540960e-02,  1.36330506e+00, -1.22414753e+00,\n",
       "       -3.95400579e-01,  8.03329365e-01,  9.05053994e-01,  1.80447042e+00,\n",
       "        1.37957778e+00,  3.42942567e-01,  1.78545136e+00, -7.42003041e-01,\n",
       "        1.83929250e-01, -5.57290182e-01,  9.41809099e-01, -3.40466347e-01,\n",
       "        1.14850996e+00, -2.77638954e+00,  7.84714162e-02,  4.07106829e-01,\n",
       "        3.91909259e-01,  6.95188593e-02, -1.01405136e+00, -1.35837192e+00,\n",
       "       -9.10629959e-01, -2.41182284e-01,  4.53082608e-01,  1.45067464e+00,\n",
       "       -8.50851741e-01, -7.82736368e-01, -9.07281051e-01, -1.13636550e-01,\n",
       "       -1.62065608e-01, -5.41944948e-01,  3.47455085e-01, -7.24608929e-01,\n",
       "        4.60301438e-01, -2.74610777e-01,  1.33057421e+00,  6.56757359e-02,\n",
       "        2.36866412e+00, -8.29783047e-01,  1.50089054e-01,  1.25714748e+00,\n",
       "       -6.96231045e-01,  8.80377444e-01,  4.44393677e-01, -1.00844058e+00,\n",
       "       -4.43868564e-01, -4.65740491e-01,  6.11190992e-01, -1.04608993e+00,\n",
       "        5.41680335e-01,  5.74447849e-01, -8.64476993e-01,  8.05141733e-01,\n",
       "       -7.59752277e-01,  1.55800481e-01,  1.21143256e+00, -6.52956943e-01,\n",
       "        2.38629911e-01, -5.16263258e-01,  6.73807140e-02,  1.37941541e-01,\n",
       "       -2.16268318e-01, -6.98153798e-01, -9.41161491e-02,  6.38620458e-01,\n",
       "       -2.22767034e-01, -7.35357536e-01, -7.21524760e-01,  3.36000149e-01,\n",
       "        9.56457168e-01, -4.46877861e-02,  5.81779625e-01,  4.78930141e-01,\n",
       "       -1.19801511e+00, -3.54317472e-01, -5.23900670e-01,  8.18025729e-01,\n",
       "        1.05781776e+00, -3.03515644e-01,  2.43614720e+00,  1.26279525e-01,\n",
       "       -4.50102466e-01,  1.97003667e-01, -4.93690739e-01, -3.07957217e-01,\n",
       "        8.71611115e-01,  7.19617416e-01, -6.06446595e-01, -1.40299138e+00,\n",
       "        5.85691970e-01,  9.72614843e-01,  1.42278252e+00,  8.98679510e-01,\n",
       "       -2.30383056e+00,  2.55820217e-01, -3.21615458e-01, -5.64656109e-01,\n",
       "       -1.05503072e+00,  9.53877824e-01, -2.83217258e-01,  1.21837172e+00,\n",
       "       -6.78963419e-01,  1.09417732e+00, -1.03789355e+00, -1.32097451e+00,\n",
       "        7.11329747e-01, -4.92218572e-01, -1.49196660e-03, -6.16380931e-01,\n",
       "       -5.87425626e-01,  2.63861107e-01,  3.91239640e-01,  1.30878735e+00,\n",
       "       -1.40679958e+00, -2.69645111e+00,  8.68891691e-01,  1.16768821e-01,\n",
       "       -1.94036507e-01, -5.19875172e-01,  1.52911453e+00, -1.08300042e+00,\n",
       "       -3.61622578e-02,  7.99589605e-01, -6.94059102e-01,  5.15950650e-02,\n",
       "       -3.76030047e-01, -1.06121979e-01, -1.31164404e+00,  7.14162973e-01,\n",
       "        8.92909211e-01, -9.16747144e-01, -2.20027562e-01,  7.12029291e-01,\n",
       "       -5.13251220e-01,  2.59410660e-01,  9.23763350e-01, -6.92897515e-01,\n",
       "       -8.12561033e-01, -8.05374611e-01, -1.41613012e-01, -7.22352130e-01,\n",
       "        4.72992566e-02, -1.03810344e+00, -2.05393308e-01,  9.96139156e-01,\n",
       "       -8.67426825e-02,  3.49844346e-01,  6.43212434e-01,  2.48566504e-01,\n",
       "       -1.32029001e+00,  1.76186157e+00, -1.68248298e+00,  1.74544544e-01,\n",
       "        1.00479208e+00, -1.97312214e+00,  7.84812443e-01,  2.43369041e+00,\n",
       "        1.27260076e+00, -1.35082679e+00,  5.76171036e-01, -8.99279400e-02,\n",
       "       -9.45170034e-01, -3.47636222e-01,  4.60535432e-01, -3.15011293e-01,\n",
       "       -5.18873264e-01,  5.68887043e-01,  1.27034522e-01, -9.86738559e-01,\n",
       "        7.29006909e-02,  5.95147139e-02, -1.09139112e-01, -1.66074473e+00,\n",
       "        6.45876223e-01,  1.64772052e+00,  4.15842952e-01,  1.64153123e-01,\n",
       "       -3.14308575e-01, -2.00259097e+00,  8.26469984e-01, -1.93670573e-01,\n",
       "       -9.68120828e-02, -5.59400910e-01,  9.98901966e-01,  1.89723459e+00,\n",
       "        3.31778938e-01, -5.42621080e-02,  1.39899913e+00,  1.14562008e+00,\n",
       "       -8.34219419e-01,  1.60219192e+00, -2.75222670e-01, -1.33357236e+00,\n",
       "       -1.10193554e+00,  1.27396722e+00, -1.57541550e+00, -7.02163194e-01,\n",
       "        1.64888956e+00, -2.86903935e-01,  1.55410015e+00, -1.60821551e+00,\n",
       "       -1.76227615e-01, -1.95578038e+00, -7.51337100e-01, -1.70568608e-01,\n",
       "       -6.07576774e-01,  8.73064603e-01,  1.41569821e+00, -9.25905347e-01,\n",
       "       -9.64286050e-01,  8.50553733e-01, -8.75558342e-01,  1.51794622e-01,\n",
       "        1.06362730e+00, -1.31938259e+00,  1.55558536e+00, -1.86529329e-01,\n",
       "        1.37122440e+00, -1.67949191e-02,  6.85500688e-02,  3.70173309e+00,\n",
       "        1.15097137e+00,  6.44096543e-01,  2.71681212e-02, -1.19798921e+00,\n",
       "        1.71110975e+00, -3.64577135e-01, -6.11850483e-01, -2.40607814e-01,\n",
       "       -4.28627054e-01, -2.90333378e-01, -3.96281393e-01, -1.06363336e-02,\n",
       "       -1.27512670e-01,  1.06468951e+00, -1.17998423e+00,  1.90486927e-01,\n",
       "       -3.82908472e-01, -7.78556552e-01, -8.58570567e-01,  1.00591556e-01,\n",
       "       -8.14796777e-01,  2.12302518e+00,  6.80053480e-01, -1.42218439e+00,\n",
       "       -1.61384769e+00, -1.37592820e-01,  1.10249497e+00,  1.55045040e-01,\n",
       "       -8.63892318e-01,  4.09479570e-01, -2.85437640e+00, -1.67617822e+00,\n",
       "       -3.34564927e-01, -9.44651334e-01,  1.07488909e+00, -1.40115147e+00,\n",
       "        3.61786438e-01, -1.00386334e+00,  3.98146573e-01,  5.78441808e-01,\n",
       "        9.31405061e-01,  2.11598117e+00, -2.95521237e-01, -2.02891933e-01,\n",
       "       -6.37537387e-01,  6.98100069e-01, -9.23815032e-01,  2.53781350e-01,\n",
       "       -2.95586986e-01,  1.11395282e+00,  5.85187160e-01, -2.09978557e+00,\n",
       "        1.63448631e+00, -3.78487201e-01, -1.22631710e-02, -7.17907024e-01,\n",
       "        3.10747836e-02,  4.67333029e-01, -1.33374219e-01,  2.64915130e-01,\n",
       "        3.19245701e-01, -6.07553176e-01,  9.65857965e-01, -7.26832523e-02,\n",
       "        8.01968119e-01,  1.44114168e+00,  8.54453807e-01, -3.37927212e-01,\n",
       "       -8.34349118e-01,  8.93979587e-01, -3.42340771e-01, -1.24118811e+00,\n",
       "       -6.74137477e-01, -9.55023852e-01,  1.25888069e+00, -1.23862662e+00,\n",
       "        5.39037247e-01,  1.14450166e+00, -2.51154268e-01,  7.75956044e-01,\n",
       "       -3.60326678e-01, -1.16397793e+00,  1.04242521e-01, -1.57362226e+00,\n",
       "       -4.55821590e-01,  2.42098832e+00,  1.00388667e-01, -1.89792440e-01,\n",
       "       -1.49688111e+00, -9.79212825e-01,  2.45818051e-01,  8.29948144e-01,\n",
       "       -6.23841728e-01,  1.20446134e+00,  1.25255924e+00, -9.77194997e-03,\n",
       "        7.92959518e-01, -1.45798277e+00,  4.13378009e-01, -3.39369697e-01,\n",
       "        1.00458972e+00, -1.93719401e+00, -1.23803925e+00, -1.50667531e+00,\n",
       "        6.47167592e-01, -5.37991524e-01,  1.97351460e-01, -1.70708265e-01,\n",
       "       -1.80610014e+00,  6.56661163e-01, -2.29817247e-01,  1.86784689e+00,\n",
       "        1.97769965e+00, -1.64601501e+00, -7.19321787e-01,  6.48499254e-01,\n",
       "       -1.11110502e+00,  1.79766476e-02, -3.02974140e-01,  1.64837847e+00,\n",
       "        1.27614330e+00,  1.39312785e+00, -8.90738459e-01,  2.83598867e-01,\n",
       "        4.60490284e-01, -4.63102516e-01, -4.60566795e-01, -9.71535142e-01,\n",
       "       -3.88229691e-01, -1.25166713e+00,  1.19748691e+00,  2.07798444e+00,\n",
       "       -7.05542881e-01,  9.08687056e-02,  2.50330128e-01, -6.20084071e-01,\n",
       "       -4.64487068e-01, -1.44850844e+00, -3.10130025e-01,  1.15084834e+00,\n",
       "        2.48399862e-01, -1.02246982e-01,  9.92619345e-02,  1.68491610e+00,\n",
       "        9.37133546e-01, -6.98646262e-01, -9.85779145e-01, -1.46836129e-01,\n",
       "        9.38078413e-01, -2.85025928e-01,  1.72111830e+00, -4.94261240e-01,\n",
       "       -5.67016081e-01,  8.34225642e-01, -2.20538127e-01,  1.10364239e-02,\n",
       "        5.09049063e-01, -1.36791087e+00,  4.90897617e-01, -1.96307372e-01,\n",
       "        6.54321696e-01, -1.97205058e+00,  1.14015055e-01, -6.97323768e-01,\n",
       "       -1.71657720e+00,  1.39712625e+00,  1.46964269e+00, -9.61431481e-03,\n",
       "        2.37197938e-01,  4.82844178e-01,  1.04843336e+00, -6.70336213e-01,\n",
       "        1.51777507e+00, -1.33102349e+00, -6.11663296e-02,  2.12066331e+00,\n",
       "       -1.17305260e+00, -7.86409617e-01, -2.96136033e-01, -5.33598675e-01,\n",
       "       -1.28878461e-01,  4.82280985e-01,  3.27589655e-03, -1.33685660e-01,\n",
       "       -2.41535458e-02,  2.28298978e-01, -1.87395738e-01,  7.10941663e-02,\n",
       "        2.85292930e-01,  1.30724139e-01,  7.11713725e-01, -5.58827229e-01,\n",
       "        4.24499599e-01,  1.80199095e-01, -5.97753537e-01, -1.10004882e+00,\n",
       "        5.77654046e-01,  2.58962899e-01,  1.69405198e-01,  3.23739327e-01,\n",
       "       -8.24148316e-01, -2.05405929e-01,  1.05389730e+00,  1.83218202e+00,\n",
       "        5.53794667e-01, -4.42661556e-01,  6.84241688e-01,  1.62939587e+00,\n",
       "        5.44464362e-01,  1.19410361e-01, -1.82197820e+00, -1.46874913e+00,\n",
       "        1.70660261e-01,  1.66372265e+00, -2.77438545e-01, -9.67801280e-01,\n",
       "        4.86487672e-01,  8.94221052e-01,  7.14563994e-01,  6.22033186e-01,\n",
       "       -1.75414537e+00,  3.55520146e-02, -4.38203320e-01,  2.16232952e+00,\n",
       "        2.20780402e-01,  5.98113287e-01,  6.13813676e-01, -1.44049262e+00,\n",
       "       -7.13239816e-01, -7.92814668e-01, -1.87161264e+00, -9.74945180e-01,\n",
       "       -1.18331653e+00, -2.95800452e-01, -1.20113593e+00, -2.44494765e+00,\n",
       "        7.13956751e-01, -8.34497187e-01, -2.78646677e-01, -1.24875104e+00,\n",
       "        5.28516110e-01,  1.23023763e+00,  8.13639288e-01,  1.02954119e+00,\n",
       "       -3.77980705e-01, -9.09390883e-01,  3.82179833e-02,  2.55422774e-01,\n",
       "       -3.68835758e-01, -2.51888165e-01, -7.35461377e-01,  1.63784619e+00,\n",
       "       -1.87137706e-01, -5.39839389e-01, -6.16381721e-01, -1.91688303e+00,\n",
       "       -7.44462566e-01, -6.18430645e-01,  3.85419553e-01,  1.63153564e+00,\n",
       "       -2.10118426e-01, -2.82623157e-02, -4.29730607e-01, -1.20113372e+00,\n",
       "        1.57603968e+00, -1.91998684e-01, -9.02720468e-01,  4.32102818e-01,\n",
       "        7.34782803e-01,  1.95049114e+00, -6.77329308e-01,  8.55380818e-02,\n",
       "       -6.03433722e-01, -9.34780301e-01,  2.61725444e-01, -1.26759821e+00,\n",
       "       -1.00674283e+00, -2.02645417e-01,  4.82751844e-01, -9.34917670e-01])"
      ]
     },
     "execution_count": 80,
     "metadata": {},
     "output_type": "execute_result"
    }
   ],
   "source": [
    "X = np.random.randn(1000)\n",
    "X"
   ]
  },
  {
   "cell_type": "code",
   "execution_count": 87,
   "metadata": {},
   "outputs": [
    {
     "data": {
      "text/plain": [
       "Text(0, 0.5, 'Frequency')"
      ]
     },
     "execution_count": 87,
     "metadata": {},
     "output_type": "execute_result"
    },
    {
     "data": {
      "image/png": "[encoded data removed]",
      "text/plain": [
       "<Figure size 432x288 with 1 Axes>"
      ]
     },
     "metadata": {
      "needs_background": "light"
     },
     "output_type": "display_data"
    }
   ],
   "source": [
    "plt.hist(X,edgecolor=\"white\")\n",
    "plt.xlabel('X')\n",
    "plt.ylabel('Frequency')"
   ]
  },
  {
   "cell_type": "code",
   "execution_count": 88,
   "metadata": {},
   "outputs": [
    {
     "data": {
      "text/plain": [
       "Text(0, 0.5, 'Frequency')"
      ]
     },
     "execution_count": 88,
     "metadata": {},
     "output_type": "execute_result"
    },
    {
     "data": {
      "image/png": "[encoded data removed]",
      "text/plain": [
       "<Figure size 432x288 with 1 Axes>"
      ]
     },
     "metadata": {
      "needs_background": "light"
     },
     "output_type": "display_data"
    }
   ],
   "source": [
    "plt.hist(X,bins=8,edgecolor=\"white\")\n",
    "plt.xlabel('X')\n",
    "plt.ylabel('Frequency')"
   ]
  },
  {
   "cell_type": "code",
   "execution_count": 91,
   "metadata": {},
   "outputs": [
    {
     "data": {
      "text/plain": [
       "array([4.79595167e+00, 1.80210075e+00, 3.40944792e+00, 9.29204780e+00,\n",
       "       1.18822696e+00, 5.43372889e+00, 9.32687310e+00, 5.64447923e+00,\n",
       "       7.87819217e+00, 5.68960189e+00, 9.67464746e+00, 6.57440421e+00,\n",
       "       9.52931689e+00, 5.06049882e+00, 4.89081509e+00, 6.40272397e+00,\n",
       "       3.34816108e+00, 1.36046379e+00, 9.98683069e+00, 4.14476161e+00,\n",
       "       4.21907045e+00, 2.55998795e+00, 5.20431359e+00, 3.43260708e+00,\n",
       "       8.88540044e+00, 6.02681942e+00, 4.20534923e+00, 4.66731689e+00,\n",
       "       7.06921644e+00, 9.43587391e+00, 9.18240874e+00, 9.94817274e-01,\n",
       "       5.18794053e+00, 8.67593277e+00, 8.40558541e+00, 3.27615659e+00,\n",
       "       3.57628945e+00, 8.88577850e-01, 5.57270003e-01, 3.03341232e-01,\n",
       "       8.98131452e+00, 3.70524814e+00, 8.41737708e+00, 6.23427318e+00,\n",
       "       9.44001817e+00, 1.89867692e+00, 5.88399410e+00, 6.02557724e+00,\n",
       "       7.25514940e-01, 7.94610622e+00, 4.17686757e+00, 1.22434585e+00,\n",
       "       1.87077641e+00, 4.10842987e+00, 6.43069982e+00, 9.94849554e+00,\n",
       "       5.01050389e+00, 3.86087460e+00, 8.36841560e+00, 9.75631222e+00,\n",
       "       8.87423836e+00, 7.65969986e+00, 5.39321629e+00, 8.55987815e+00,\n",
       "       3.56034269e+00, 4.13559286e+00, 3.22751581e+00, 1.01033293e+00,\n",
       "       9.73716954e+00, 2.66941643e+00, 8.14275629e+00, 4.14524244e+00,\n",
       "       9.53719606e+00, 6.91081625e+00, 4.58498614e+00, 6.52373992e+00,\n",
       "       2.08560304e+00, 3.75671455e+00, 9.48604561e+00, 8.66078837e-01,\n",
       "       3.65068349e+00, 6.16676634e+00, 6.50329244e+00, 6.38290180e+00,\n",
       "       2.95870890e+00, 1.17811609e+00, 1.37525554e+00, 9.84910471e+00,\n",
       "       1.26875678e+00, 9.28636059e+00, 7.89058476e+00, 7.59390007e+00,\n",
       "       5.20254388e+00, 1.97324333e+00, 7.99869506e+00, 8.80929674e+00,\n",
       "       2.92981704e+00, 5.27271434e+00, 4.15060364e+00, 5.50695133e+00,\n",
       "       7.13957556e+00, 4.45658784e+00, 9.93220785e+00, 2.11644016e+00,\n",
       "       3.40399916e+00, 2.46910937e-01, 9.30195346e+00, 4.03893605e+00,\n",
       "       7.89655570e+00, 8.44268949e+00, 7.49371463e+00, 5.21324762e+00,\n",
       "       2.90761019e+00, 3.79323629e+00, 2.08456804e+00, 9.94122532e+00,\n",
       "       9.18468210e+00, 2.63447864e+00, 1.02033368e+00, 4.11884617e+00,\n",
       "       7.68285610e+00, 7.47547398e+00, 3.56879134e+00, 7.27844867e+00,\n",
       "       8.73729287e+00, 5.66270084e+00, 3.02187169e+00, 6.26807015e+00,\n",
       "       7.97728035e-01, 9.20758831e-01, 6.02942442e+00, 5.99309775e+00,\n",
       "       7.56617475e+00, 8.61378054e+00, 4.95502659e+00, 5.66189050e+00,\n",
       "       8.43022387e-01, 3.63183358e+00, 9.63605828e+00, 4.61315677e+00,\n",
       "       5.40421354e+00, 9.99123550e+00, 7.29998899e+00, 3.51857388e+00,\n",
       "       7.41481169e+00, 5.67639613e+00, 7.59669581e+00, 4.60719518e+00,\n",
       "       1.22640339e-02, 2.00832763e-01, 2.52201034e+00, 7.27545465e+00,\n",
       "       4.83509685e+00, 5.57761570e+00, 9.42274457e+00, 6.31359541e+00,\n",
       "       6.02030005e+00, 4.46336850e+00, 9.08287994e+00, 7.15334164e+00,\n",
       "       2.70114242e+00, 1.38078897e+00, 5.68588691e+00, 1.96683040e+00,\n",
       "       8.09074969e+00, 1.97076595e+00, 8.64453316e+00, 6.93311565e+00,\n",
       "       8.42427646e+00, 5.00794670e+00, 4.91083020e+00, 4.61740990e+00,\n",
       "       9.97274859e+00, 8.05463764e+00, 2.90394357e+00, 7.70328451e+00,\n",
       "       9.72533531e+00, 5.31691693e+00, 6.58202401e+00, 5.68196935e+00,\n",
       "       1.20931000e+00, 9.89527181e+00, 1.17607586e+00, 8.23133240e+00,\n",
       "       7.02308948e+00, 4.38494705e+00, 2.87133454e+00, 9.01857116e+00,\n",
       "       7.24517032e+00, 3.41803010e+00, 3.25839903e+00, 2.14821550e+00,\n",
       "       7.14238795e+00, 8.89024909e+00, 4.44594793e-01, 2.73840462e+00,\n",
       "       3.59034607e+00, 5.70283459e+00, 7.00942590e+00, 2.59443334e+00,\n",
       "       6.76014687e+00, 8.68262392e+00, 5.03279811e+00, 9.58861904e+00,\n",
       "       7.35802299e+00, 3.08207369e+00, 7.29892666e+00, 6.50360456e+00,\n",
       "       4.02047361e+00, 9.70196586e-01, 8.47405275e+00, 9.32410064e+00,\n",
       "       8.07893112e+00, 9.24049334e+00, 5.58762321e+00, 8.33700844e+00,\n",
       "       5.09611438e+00, 2.01994429e+00, 8.27763967e+00, 3.46526061e+00,\n",
       "       8.54844699e+00, 5.02027248e+00, 8.57817043e+00, 3.63331359e+00,\n",
       "       3.30099069e+00, 4.60795540e+00, 6.11583659e+00, 9.35400744e+00,\n",
       "       6.31252533e+00, 8.27065174e+00, 2.60490782e+00, 2.49206519e+00,\n",
       "       5.35191103e+00, 7.19801268e+00, 5.23642058e+00, 8.91243782e+00,\n",
       "       8.48284263e-01, 5.82125117e+00, 6.43191564e+00, 8.57794427e+00,\n",
       "       8.84788868e+00, 5.96302504e+00, 4.75628266e+00, 4.77971659e+00,\n",
       "       1.75228730e+00, 6.81129674e+00, 5.09195988e+00, 4.89718787e+00,\n",
       "       1.50852656e+00, 7.45180058e+00, 8.15918027e+00, 5.90495955e+00,\n",
       "       6.74895881e+00, 1.69244884e+00, 8.59502208e+00, 7.13097819e+00,\n",
       "       2.06428247e+00, 2.53663277e+00, 4.50759346e+00, 3.66885025e+00,\n",
       "       9.64146508e+00, 4.60047056e+00, 6.87458222e+00, 6.46098440e+00,\n",
       "       7.81308313e+00, 6.16742649e+00, 4.27059185e+00, 7.23986727e+00,\n",
       "       4.35179166e+00, 4.47877145e+00, 7.59806842e+00, 2.48792000e+00,\n",
       "       7.34973370e+00, 7.48434560e+00, 9.02925531e+00, 7.81664860e+00,\n",
       "       5.22290760e+00, 5.80119304e+00, 5.10403435e-03, 6.82807502e+00,\n",
       "       5.15516249e+00, 7.60205144e+00, 1.18276088e+00, 7.11865107e+00,\n",
       "       9.71644716e-02, 3.89384630e+00, 5.30639803e+00, 8.18536998e-01,\n",
       "       6.30914274e+00, 3.75988585e+00, 5.30607843e+00, 1.53438645e+00,\n",
       "       8.63562631e+00, 3.17083438e+00, 7.18456726e-01, 1.74174766e-01,\n",
       "       5.55031204e+00, 3.62374894e-01, 9.55854014e+00, 1.51270265e+00,\n",
       "       3.49853586e+00, 3.30698132e+00, 4.99867607e+00, 8.39915397e+00,\n",
       "       3.24921867e+00, 9.60648737e+00, 5.34822171e+00, 7.43137965e+00,\n",
       "       9.83663960e+00, 1.10584912e+00, 8.92232389e+00, 5.65426126e+00,\n",
       "       3.31860983e-01, 8.34552477e+00, 9.95525564e+00, 2.73428983e+00,\n",
       "       9.34926946e+00, 1.18688457e+00, 8.88302679e-01, 3.16702910e+00,\n",
       "       2.10231822e+00, 9.15370484e+00, 9.49432214e+00, 4.95605032e+00,\n",
       "       5.78194370e+00, 5.19533034e+00, 4.81727554e+00, 1.47658787e+00,\n",
       "       5.91870239e+00, 4.25685398e+00, 4.95157632e+00, 8.13992150e+00,\n",
       "       9.06770549e+00, 2.18190415e+00, 3.02663889e+00, 9.72068144e+00,\n",
       "       9.35759974e+00, 4.24139314e+00, 8.23904430e+00, 5.44823015e+00,\n",
       "       3.09684605e+00, 9.78698825e+00, 8.28183601e+00, 5.08625821e+00,\n",
       "       9.00918928e+00, 7.92951509e+00, 8.29762381e+00, 6.02697760e+00,\n",
       "       3.97833353e+00, 5.59870946e+00, 2.08982674e+00, 1.06825634e+00,\n",
       "       6.56010538e+00, 8.14911252e+00, 2.49550332e+00, 9.47369106e+00,\n",
       "       9.38542673e+00, 9.41752977e+00, 6.72654893e+00, 9.36471396e+00,\n",
       "       9.98283985e+00, 9.92611662e+00, 2.53459017e+00, 9.37039854e+00,\n",
       "       1.23029872e+00, 9.19618404e+00, 4.65542119e+00, 3.43090834e+00,\n",
       "       3.76021515e+00, 1.83001184e+00, 5.98401331e+00, 5.17648785e+00,\n",
       "       3.26682778e+00, 3.70697900e+00, 1.12655087e-01, 7.30792970e+00,\n",
       "       7.04251724e+00, 7.29399025e+00, 6.24279281e+00, 4.39051536e+00,\n",
       "       9.91423329e+00, 1.43497426e+00, 7.52318620e+00, 9.46406340e+00,\n",
       "       7.07821298e+00, 5.93839182e+00, 7.11338883e+00, 4.36973122e+00,\n",
       "       4.66006218e+00, 5.53454033e+00, 7.84784461e+00, 8.23681126e+00,\n",
       "       7.90747821e+00, 7.34892630e+00, 8.23643523e+00, 5.56259931e+00,\n",
       "       1.76978581e+00, 5.25539591e+00, 7.71405956e+00, 6.65319241e-01,\n",
       "       3.86835499e+00, 4.71519573e+00, 6.82236884e+00, 9.31130858e+00,\n",
       "       6.68302189e+00, 4.99296392e+00, 1.99985463e+00, 8.18573519e+00,\n",
       "       3.84606809e+00, 8.82569120e+00, 1.37041965e+00, 8.68345571e+00,\n",
       "       8.39380815e+00, 6.79765761e+00, 9.66972122e+00, 1.53149707e+00,\n",
       "       5.84789520e+00, 3.46910383e+00, 6.34399150e-02, 2.52908275e+00,\n",
       "       3.08543792e+00, 9.71288342e+00, 6.31068562e+00, 1.55357012e+00,\n",
       "       5.04463305e+00, 8.98104896e+00, 4.79079601e+00, 5.79361093e+00,\n",
       "       3.18693729e+00, 7.28662563e-01, 2.47477609e-01, 9.45298077e+00,\n",
       "       8.89435036e+00, 8.75417106e+00, 7.15421035e+00, 9.28408904e+00,\n",
       "       8.93537222e+00, 5.60662727e+00, 9.11005849e+00, 2.19141547e+00,\n",
       "       8.82363944e-01, 1.68661946e+00, 9.04124222e+00, 1.42187824e+00,\n",
       "       7.92802373e+00, 6.14155691e+00, 4.16229948e-01, 9.78834073e+00,\n",
       "       1.38509086e+00, 4.57778509e+00, 1.87047180e+00, 9.62716426e+00,\n",
       "       6.10209215e+00, 9.50696090e+00, 3.01082654e+00, 2.22135406e+00,\n",
       "       2.62654193e+00, 2.82431995e+00, 8.04646840e+00, 8.82888529e+00,\n",
       "       3.61816033e+00, 3.93924548e+00, 5.20487507e+00, 2.24740052e+00,\n",
       "       4.70995697e+00, 5.13210958e+00, 1.65528011e+00, 8.98093203e+00,\n",
       "       8.54496637e+00, 5.18306093e+00, 6.61118058e+00, 9.31055416e+00,\n",
       "       3.98855184e+00, 6.79319685e+00, 3.30501523e+00, 5.74404499e+00,\n",
       "       9.51926290e+00, 3.87924467e+00, 2.05608157e+00, 2.24441568e+00,\n",
       "       6.94222855e+00, 3.10279651e+00, 6.71746136e+00, 8.23544722e+00,\n",
       "       5.74734891e+00, 4.24589723e+00, 5.41098183e+00, 3.01900978e+00,\n",
       "       7.11875978e+00, 2.61065482e+00, 2.46885148e+00, 5.62450490e+00,\n",
       "       8.53980537e+00, 7.13195241e-01, 6.65454561e+00, 2.21999202e+00,\n",
       "       6.46610330e+00, 9.45223606e+00, 8.42670245e+00, 5.44299743e+00,\n",
       "       2.18708867e+00, 5.82092635e+00, 7.65491968e+00, 9.53403110e+00,\n",
       "       5.22069798e+00, 5.18826915e-01, 4.01020820e+00, 7.01578374e+00,\n",
       "       9.65756884e+00, 9.91593560e+00, 6.89522558e-01, 9.44399119e+00,\n",
       "       9.61085442e+00, 4.99272401e+00, 8.36531157e+00, 3.43816279e+00,\n",
       "       3.65638527e+00, 5.93045742e+00, 4.76873409e+00, 1.03646694e+00,\n",
       "       6.34609509e+00, 1.05696878e-01, 6.37007774e+00, 7.26797996e+00,\n",
       "       8.29676032e+00, 2.76060398e+00, 1.08856308e+00, 2.16633163e+00,\n",
       "       9.17349189e+00, 7.07869939e+00, 5.49715427e+00, 4.13793457e+00,\n",
       "       4.26043071e+00, 6.73727527e+00, 1.72705799e+00, 5.27472905e+00,\n",
       "       7.79906374e+00, 2.03795626e+00, 6.31274727e+00, 9.63287899e+00,\n",
       "       9.71769530e+00, 2.34433740e+00, 8.48207535e+00, 2.53895253e+00,\n",
       "       9.92103160e+00, 3.52152365e+00, 4.15342794e+00, 2.13641403e+00,\n",
       "       2.41614696e+00, 1.60385926e+00, 2.98439085e+00, 1.90969208e+00,\n",
       "       7.29807495e+00, 3.12474605e-01, 4.74282248e+00, 4.58307571e+00,\n",
       "       8.06345160e+00, 1.87215139e+00, 5.60518761e+00, 1.64367792e+00,\n",
       "       3.30763578e+00, 6.10460576e+00, 5.05918034e+00, 2.10490326e+00,\n",
       "       9.44794736e+00, 7.24231215e+00, 2.07447685e+00, 5.44687754e+00,\n",
       "       1.34799211e+00, 3.97202833e+00, 2.05498479e+00, 6.09224982e+00,\n",
       "       8.55105633e+00, 9.68028094e+00, 6.45166424e+00, 3.52166041e+00,\n",
       "       3.45849566e+00, 1.69114848e+00, 8.35664837e+00, 2.82368837e+00,\n",
       "       1.22004077e+00, 4.39947148e+00, 6.39363632e+00, 4.67214812e+00,\n",
       "       7.40349312e+00, 9.49651258e+00, 5.64632060e+00, 1.20156843e+00,\n",
       "       5.76589136e+00, 1.58851415e+00, 2.65709122e+00, 1.52094860e+00,\n",
       "       2.86062873e+00, 4.43142250e-01, 5.54006467e-01, 6.23832443e+00,\n",
       "       3.06360168e+00, 8.53553622e+00, 5.36644411e+00, 7.74552040e-01,\n",
       "       3.79749997e+00, 6.36174856e+00, 6.88120246e+00, 4.38389182e+00,\n",
       "       4.39816485e+00, 1.63616501e+00, 1.57024960e+00, 8.91823008e+00,\n",
       "       3.85952125e+00, 6.70226379e+00, 7.63822689e+00, 1.81725929e+00,\n",
       "       5.09622056e-01, 4.65381955e+00, 2.24495186e+00, 6.21305525e+00,\n",
       "       3.57443479e+00, 3.91655944e+00, 8.14718185e+00, 2.63851513e-01,\n",
       "       7.87861067e-01, 1.82027251e+00, 8.94403248e+00, 4.57093999e+00,\n",
       "       6.42534099e+00, 2.47568312e+00, 5.49954307e+00, 2.95656698e+00,\n",
       "       6.86846574e+00, 7.69687192e+00, 2.39698148e+00, 4.22333014e+00,\n",
       "       5.32201243e+00, 3.63217285e+00, 5.78145371e-01, 2.50181066e+00,\n",
       "       3.11617150e+00, 9.36803590e+00, 1.60452212e+00, 6.56150983e-01,\n",
       "       5.68959532e+00, 8.27568160e+00, 9.12905580e+00, 9.87679676e+00,\n",
       "       7.88142033e+00, 8.22605222e+00, 7.86652589e+00, 1.83646128e+00,\n",
       "       8.08207276e-01, 4.52587948e+00, 5.15047883e+00, 1.07235239e-01,\n",
       "       9.02700785e-01, 9.54730630e+00, 6.72518079e+00, 6.76933024e-01,\n",
       "       6.97300327e+00, 3.70780096e+00, 5.55907332e+00, 6.11402970e+00,\n",
       "       7.91082221e+00, 1.14120227e+00, 1.38953134e+00, 4.60076655e+00,\n",
       "       2.75258330e+00, 2.68247144e+00, 4.61452866e+00, 8.58746055e+00,\n",
       "       6.44143882e+00, 4.66759965e+00, 8.22353867e+00, 6.41730143e+00,\n",
       "       6.41222265e+00, 7.19662115e+00, 4.37344366e+00, 5.68560421e+00,\n",
       "       4.64105854e+00, 2.49973871e+00, 2.39527946e+00, 1.62887100e+00,\n",
       "       3.96358667e+00, 7.28416372e+00, 4.49550516e+00, 5.14246256e+00,\n",
       "       5.98781361e+00, 3.54385911e+00, 7.61328861e+00, 3.80573228e+00,\n",
       "       3.32201739e+00, 6.98159669e+00, 5.43590335e+00, 2.39296311e+00,\n",
       "       1.88597207e+00, 5.67781728e+00, 8.63009740e+00, 5.06999648e+00,\n",
       "       2.74234163e+00, 7.11777674e+00, 1.93136727e-01, 5.13384882e+00,\n",
       "       6.20931637e+00, 6.60033569e+00, 3.34498470e+00, 4.27257674e+00,\n",
       "       7.91916328e+00, 1.59346605e-01, 6.44387303e+00, 7.29073262e+00,\n",
       "       3.43068249e-01, 2.55340662e+00, 7.68098715e+00, 5.36151236e+00,\n",
       "       3.27398307e+00, 9.01631657e-01, 2.75358246e+00, 6.10474900e+00,\n",
       "       3.11769170e+00, 4.38226013e+00, 8.59500165e+00, 2.45554956e+00,\n",
       "       7.73481158e+00, 6.31117213e+00, 7.52987582e+00, 7.63446731e+00,\n",
       "       4.59159118e+00, 5.59064797e+00, 4.30355774e+00, 4.24943431e+00,\n",
       "       7.27376908e+00, 7.51995849e+00, 6.59485699e+00, 5.98543593e-01,\n",
       "       6.60644921e+00, 8.26932475e+00, 2.20892666e+00, 9.92360257e+00,\n",
       "       5.96398165e+00, 1.79871897e+00, 9.50939728e+00, 8.64090212e-01,\n",
       "       7.04783061e+00, 1.63493707e+00, 3.99154796e+00, 8.35674743e+00,\n",
       "       8.41134527e-01, 3.05140623e+00, 6.25051811e+00, 6.21589490e+00,\n",
       "       4.92404366e+00, 5.02302204e+00, 1.89531117e+00, 3.75521593e+00,\n",
       "       7.43561162e+00, 1.52074804e+00, 1.28700538e+00, 4.42096648e+00,\n",
       "       8.95888439e+00, 6.27814852e+00, 7.55334415e+00, 4.50288383e+00,\n",
       "       5.95478507e+00, 7.62588338e+00, 6.49826486e+00, 3.95608860e+00,\n",
       "       1.12339222e+00, 8.35135412e+00, 7.56130391e+00, 9.55089858e+00,\n",
       "       2.52028710e-01, 5.14522602e-01, 2.05581655e+00, 4.58020790e+00,\n",
       "       6.44879412e+00, 3.65066183e+00, 1.58973562e+00, 1.60212619e+00,\n",
       "       4.56048668e+00, 3.44016958e+00, 7.00672998e+00, 9.08770611e-01,\n",
       "       6.35333085e+00, 8.95585159e+00, 4.69175636e+00, 7.26207424e+00,\n",
       "       9.17808062e+00, 1.80619421e+00, 5.32909808e+00, 3.18006396e+00,\n",
       "       2.91961040e+00, 7.32233788e+00, 6.21719341e+00, 1.06605334e+00,\n",
       "       1.27823569e+00, 4.76992460e+00, 9.73506252e-01, 5.79868964e+00,\n",
       "       5.01019367e+00, 6.78390488e+00, 4.57112332e+00, 9.95942235e+00,\n",
       "       6.11996724e+00, 6.73931990e+00, 9.63455618e-01, 1.18294451e+00,\n",
       "       1.80610361e+00, 8.58701093e+00, 4.22385489e+00, 2.47765663e+00,\n",
       "       6.47358287e+00, 2.98188057e+00, 8.41027767e+00, 6.40737767e+00,\n",
       "       2.77617133e+00, 7.67257475e+00, 3.60686518e+00, 7.04190039e+00,\n",
       "       1.34002101e-01, 5.37469123e+00, 8.91614709e+00, 5.41316124e+00,\n",
       "       2.59436033e+00, 6.45160317e+00, 8.01172177e+00, 2.89311050e+00,\n",
       "       8.73271514e+00, 2.20398922e+00, 1.67895409e+00, 8.72865382e+00,\n",
       "       8.63356788e+00, 9.83100696e+00, 6.58949767e+00, 8.24757457e+00,\n",
       "       9.26336589e+00, 3.63714961e+00, 1.19307014e+00, 5.23611630e+00,\n",
       "       6.31179625e+00, 9.75391242e+00, 9.64625640e+00, 7.03995367e+00,\n",
       "       4.42260509e+00, 3.19397369e+00, 2.23749338e+00, 3.74648611e+00,\n",
       "       7.36320572e+00, 8.11689583e+00, 5.72949414e+00, 9.34035444e+00,\n",
       "       5.89287106e+00, 9.80166571e+00, 6.40132129e+00, 5.79810989e+00,\n",
       "       4.41406605e-01, 6.91839624e+00, 5.33260133e+00, 6.28955205e+00,\n",
       "       4.04092914e+00, 9.88744786e+00, 5.18052107e+00, 4.87216105e+00,\n",
       "       8.75150808e+00, 1.20452376e+00, 4.25701253e+00, 9.61313271e-01,\n",
       "       4.83359644e+00, 1.44436319e+00, 1.87864704e+00, 1.07598327e+00,\n",
       "       6.14131443e+00, 3.29703102e+00, 1.31637053e+00, 7.97693950e+00,\n",
       "       4.60677865e+00, 2.16292769e+00, 3.89566007e+00, 6.19474837e+00,\n",
       "       9.12014734e+00, 9.77069793e+00, 7.88907454e+00, 3.56405758e+00,\n",
       "       2.61929453e+00, 2.86548380e+00, 8.71101377e+00, 2.88665579e+00,\n",
       "       5.91048061e+00, 5.54472330e+00, 9.46522492e+00, 1.96160207e+00,\n",
       "       8.15650676e+00, 2.85615302e+00, 4.23466568e+00, 1.92580116e+00,\n",
       "       9.91351083e+00, 7.13978729e+00, 9.94853435e+00, 1.57767243e+00,\n",
       "       4.49440427e+00, 2.68504909e+00, 6.91939055e+00, 7.55894659e+00,\n",
       "       6.27998348e+00, 6.22325231e+00, 3.42091240e+00, 3.72356883e+00,\n",
       "       2.37086599e+00, 2.48447142e+00, 1.14495915e+00, 5.17864509e+00,\n",
       "       7.07405208e+00, 6.11405196e+00, 1.40378297e+00, 3.53945613e+00,\n",
       "       5.94819629e+00, 1.94454055e+00, 6.53269902e+00, 2.69925720e-01,\n",
       "       5.72126045e+00, 6.68531645e-01, 9.58377833e+00, 4.70635434e+00,\n",
       "       2.08869439e+00, 3.86926842e+00, 2.07007434e+00, 4.49027789e+00,\n",
       "       7.95017047e+00, 3.19495842e+00, 6.19573096e+00, 5.11909280e+00,\n",
       "       7.18718396e+00, 6.08800235e+00, 1.54873260e+00, 9.40357838e+00,\n",
       "       4.61824372e+00, 8.79607183e-02, 9.05265010e+00, 2.96019295e+00,\n",
       "       2.47716115e+00, 1.10375710e+00, 8.64814265e+00, 9.40461959e+00,\n",
       "       4.88325236e+00, 5.68701833e+00, 2.68847429e+00, 7.91681106e+00,\n",
       "       8.85074867e+00, 9.28063266e+00, 2.91166577e-02, 4.94470292e+00,\n",
       "       7.31131843e-01, 1.72026741e+00, 9.76348940e+00, 2.55962807e+00,\n",
       "       7.98834829e+00, 9.28688372e+00, 2.44844967e+00, 5.59170985e+00,\n",
       "       9.64611769e+00, 5.65502608e+00, 8.55979581e+00, 2.69113220e+00,\n",
       "       2.75451401e+00, 1.82277101e+00, 5.02825362e+00, 8.59402665e+00,\n",
       "       9.14946067e+00, 2.84867515e+00, 6.78898886e+00, 7.50839707e+00,\n",
       "       9.34523091e+00, 3.48909301e+00, 7.29420618e+00, 3.00440023e-01,\n",
       "       7.82205632e+00, 9.62239321e+00, 7.65519176e+00, 8.31825954e-01,\n",
       "       8.90006008e+00, 8.78366095e-01, 4.18129347e+00, 7.47774014e+00,\n",
       "       2.35457965e+00, 3.87898746e+00, 3.48279748e+00, 8.60107870e+00,\n",
       "       3.09062232e+00, 3.31398915e+00, 5.98191744e+00, 5.64670494e+00,\n",
       "       8.35566599e+00, 1.27592031e+00, 1.63497323e+00, 2.24398277e+00,\n",
       "       4.90826508e+00, 9.32281148e+00, 1.81100666e+00, 5.13480711e-01,\n",
       "       4.47027278e+00, 8.64704890e+00, 2.03090774e+00, 7.91750021e+00])"
      ]
     },
     "execution_count": 91,
     "metadata": {},
     "output_type": "execute_result"
    }
   ],
   "source": [
    "X = np.random.uniform(0,10,size = 1000)\n",
    "X"
   ]
  },
  {
   "cell_type": "code",
   "execution_count": 92,
   "metadata": {},
   "outputs": [
    {
     "data": {
      "text/plain": [
       "Text(0, 0.5, 'Frequency')"
      ]
     },
     "execution_count": 92,
     "metadata": {},
     "output_type": "execute_result"
    },
    {
     "data": {
      "image/png": "[encoded data removed]",
      "text/plain": [
       "<Figure size 432x288 with 1 Axes>"
      ]
     },
     "metadata": {
      "needs_background": "light"
     },
     "output_type": "display_data"
    }
   ],
   "source": [
    "plt.hist(X,edgecolor=\"white\")\n",
    "plt.xlabel('X')\n",
    "plt.ylabel('Frequency')"
   ]
  },
  {
   "cell_type": "code",
   "execution_count": 93,
   "metadata": {},
   "outputs": [
    {
     "data": {
      "text/plain": [
       "(array([ 11.,  31.,  97., 162., 195., 216., 172.,  76.,  33.,   7.]),\n",
       " array([-6.65084179, -4.91272043, -3.17459907, -1.43647771,  0.30164366,\n",
       "         2.03976502,  3.77788638,  5.51600774,  7.2541291 ,  8.99225047,\n",
       "        10.73037183]),\n",
       " <a list of 10 Patch objects>)"
      ]
     },
     "execution_count": 93,
     "metadata": {},
     "output_type": "execute_result"
    },
    {
     "data": {
      "image/png": "[encoded data removed]",
      "text/plain": [
       "<Figure size 432x288 with 1 Axes>"
      ]
     },
     "metadata": {
      "needs_background": "light"
     },
     "output_type": "display_data"
    }
   ],
   "source": [
    "X= np.random.normal(2,3,1000)\n",
    "plt.hist(X,edgecolor=\"white\")"
   ]
  },
  {
   "cell_type": "code",
   "execution_count": 95,
   "metadata": {},
   "outputs": [
    {
     "data": {
      "image/png": "[encoded data removed]",
      "text/plain": [
       "<Figure size 432x288 with 1 Axes>"
      ]
     },
     "metadata": {
      "needs_background": "light"
     },
     "output_type": "display_data"
    }
   ],
   "source": [
    "plt.boxplot(X);"
   ]
  },
  {
   "cell_type": "code",
   "execution_count": 99,
   "metadata": {},
   "outputs": [
    {
     "ename": "ValueError",
     "evalue": "cannot reshape array of size 16 into shape (4,4,2)",
     "output_type": "error",
     "traceback": [
      "\u001b[1;31m---------------------------------------------------------------------------\u001b[0m",
      "\u001b[1;31mValueError\u001b[0m                                Traceback (most recent call last)",
      "\u001b[1;32m<ipython-input-99-88679006330c>\u001b[0m in \u001b[0;36m<module>\u001b[1;34m\u001b[0m\n\u001b[1;32m----> 1\u001b[1;33m \u001b[0mX\u001b[0m\u001b[1;33m=\u001b[0m \u001b[0mnp\u001b[0m\u001b[1;33m.\u001b[0m\u001b[0marange\u001b[0m\u001b[1;33m(\u001b[0m\u001b[1;36m16\u001b[0m\u001b[1;33m)\u001b[0m\u001b[1;33m.\u001b[0m\u001b[0mreshape\u001b[0m\u001b[1;33m(\u001b[0m\u001b[1;33m(\u001b[0m\u001b[1;36m4\u001b[0m\u001b[1;33m,\u001b[0m\u001b[1;36m4\u001b[0m\u001b[1;33m,\u001b[0m\u001b[1;36m2\u001b[0m\u001b[1;33m)\u001b[0m\u001b[1;33m)\u001b[0m\u001b[1;33m\u001b[0m\u001b[1;33m\u001b[0m\u001b[0m\n\u001b[0m",
      "\u001b[1;31mValueError\u001b[0m: cannot reshape array of size 16 into shape (4,4,2)"
     ]
    }
   ],
   "source": [
    "X= np.arange(16).reshape((4,4))"
   ]
  },
  {
   "cell_type": "code",
   "execution_count": 98,
   "metadata": {},
   "outputs": [
    {
     "data": {
      "text/plain": [
       "array([[ 0,  1,  2,  3],\n",
       "       [ 4,  5,  6,  7],\n",
       "       [ 8,  9, 10, 11],\n",
       "       [12, 13, 14, 15]])"
      ]
     },
     "execution_count": 98,
     "metadata": {},
     "output_type": "execute_result"
    }
   ],
   "source": [
    "X"
   ]
  },
  {
   "cell_type": "code",
   "execution_count": 110,
   "metadata": {},
   "outputs": [],
   "source": [
    "X= np.arange(16).reshape((4,2,2))"
   ]
  },
  {
   "cell_type": "code",
   "execution_count": 101,
   "metadata": {},
   "outputs": [
    {
     "data": {
      "text/plain": [
       "array([[[ 0,  1],\n",
       "        [ 2,  3]],\n",
       "\n",
       "       [[ 4,  5],\n",
       "        [ 6,  7]],\n",
       "\n",
       "       [[ 8,  9],\n",
       "        [10, 11]],\n",
       "\n",
       "       [[12, 13],\n",
       "        [14, 15]]])"
      ]
     },
     "execution_count": 101,
     "metadata": {},
     "output_type": "execute_result"
    }
   ],
   "source": [
    "X"
   ]
  },
  {
   "cell_type": "code",
   "execution_count": 104,
   "metadata": {},
   "outputs": [
    {
     "data": {
      "text/plain": [
       "array([ 0,  2,  4,  6,  8, 10])"
      ]
     },
     "execution_count": 104,
     "metadata": {},
     "output_type": "execute_result"
    }
   ],
   "source": [
    "X = np.arange(0,12,2)\n",
    "X"
   ]
  },
  {
   "cell_type": "code",
   "execution_count": 107,
   "metadata": {},
   "outputs": [
    {
     "data": {
      "text/plain": [
       "array([[4, 5],\n",
       "       [6, 7]])"
      ]
     },
     "execution_count": 107,
     "metadata": {},
     "output_type": "execute_result"
    }
   ],
   "source": [
    "X[1]"
   ]
  },
  {
   "cell_type": "code",
   "execution_count": 108,
   "metadata": {},
   "outputs": [
    {
     "data": {
      "text/plain": [
       "array([[12, 13],\n",
       "       [14, 15]])"
      ]
     },
     "execution_count": 108,
     "metadata": {},
     "output_type": "execute_result"
    }
   ],
   "source": [
    "X[-1]"
   ]
  },
  {
   "cell_type": "code",
   "execution_count": 129,
   "metadata": {},
   "outputs": [
    {
     "ename": "ValueError",
     "evalue": "cannot reshape array of size 20 into shape (2,4,4)",
     "output_type": "error",
     "traceback": [
      "\u001b[1;31m---------------------------------------------------------------------------\u001b[0m",
      "\u001b[1;31mValueError\u001b[0m                                Traceback (most recent call last)",
      "\u001b[1;32m<ipython-input-129-083a76b328b0>\u001b[0m in \u001b[0;36m<module>\u001b[1;34m\u001b[0m\n\u001b[1;32m----> 1\u001b[1;33m \u001b[0mX\u001b[0m\u001b[1;33m=\u001b[0m \u001b[0mnp\u001b[0m\u001b[1;33m.\u001b[0m\u001b[0marange\u001b[0m\u001b[1;33m(\u001b[0m\u001b[1;36m20\u001b[0m\u001b[1;33m)\u001b[0m\u001b[1;33m.\u001b[0m\u001b[0mreshape\u001b[0m\u001b[1;33m(\u001b[0m\u001b[1;33m(\u001b[0m\u001b[1;36m2\u001b[0m\u001b[1;33m,\u001b[0m\u001b[1;36m4\u001b[0m\u001b[1;33m,\u001b[0m\u001b[1;36m4\u001b[0m\u001b[1;33m)\u001b[0m\u001b[1;33m)\u001b[0m\u001b[1;33m\u001b[0m\u001b[1;33m\u001b[0m\u001b[0m\n\u001b[0m\u001b[0;32m      2\u001b[0m \u001b[0mX\u001b[0m\u001b[1;33m\u001b[0m\u001b[1;33m\u001b[0m\u001b[0m\n",
      "\u001b[1;31mValueError\u001b[0m: cannot reshape array of size 20 into shape (2,4,4)"
     ]
    }
   ],
   "source": [
    "X= np.arange(20).reshape((2,4,2))\n",
    "X"
   ]
  },
  {
   "cell_type": "code",
   "execution_count": 135,
   "metadata": {},
   "outputs": [
    {
     "ename": "ValueError",
     "evalue": "cannot reshape array of size 25 into shape (5,5,5)",
     "output_type": "error",
     "traceback": [
      "\u001b[1;31m---------------------------------------------------------------------------\u001b[0m",
      "\u001b[1;31mValueError\u001b[0m                                Traceback (most recent call last)",
      "\u001b[1;32m<ipython-input-135-4e055b545023>\u001b[0m in \u001b[0;36m<module>\u001b[1;34m\u001b[0m\n\u001b[1;32m----> 1\u001b[1;33m \u001b[0mX\u001b[0m\u001b[1;33m=\u001b[0m \u001b[0mnp\u001b[0m\u001b[1;33m.\u001b[0m\u001b[0marange\u001b[0m\u001b[1;33m(\u001b[0m\u001b[1;36m25\u001b[0m\u001b[1;33m)\u001b[0m\u001b[1;33m.\u001b[0m\u001b[0mreshape\u001b[0m\u001b[1;33m(\u001b[0m\u001b[1;33m(\u001b[0m\u001b[1;36m5\u001b[0m\u001b[1;33m,\u001b[0m\u001b[1;36m5\u001b[0m\u001b[1;33m,\u001b[0m\u001b[1;36m5\u001b[0m\u001b[1;33m)\u001b[0m\u001b[1;33m)\u001b[0m\u001b[1;33m\u001b[0m\u001b[1;33m\u001b[0m\u001b[0m\n\u001b[0m\u001b[0;32m      2\u001b[0m \u001b[0mX\u001b[0m\u001b[1;33m\u001b[0m\u001b[1;33m\u001b[0m\u001b[0m\n",
      "\u001b[1;31mValueError\u001b[0m: cannot reshape array of size 25 into shape (5,5,5)"
     ]
    }
   ],
   "source": [
    "X= np.arange(25).reshape((5,5,5))\n",
    "X"
   ]
  },
  {
   "cell_type": "code",
   "execution_count": null,
   "metadata": {},
   "outputs": [],
   "source": []
  }
 ],
 "metadata": {
  "kernelspec": {
   "display_name": "Python 3",
   "language": "python",
   "name": "python3"
  },
  "language_info": {
   "codemirror_mode": {
    "name": "ipython",
    "version": 3
   },
   "file_extension": ".py",
   "mimetype": "text/x-python",
   "name": "python",
   "nbconvert_exporter": "python",
   "pygments_lexer": "ipython3",
   "version": "3.7.4"
  }
 },
 "nbformat": 4,
 "nbformat_minor": 2
}
